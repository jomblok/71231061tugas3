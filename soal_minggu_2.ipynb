{
  "nbformat": 4,
  "nbformat_minor": 0,
  "metadata": {
    "colab": {
      "provenance": []
    },
    "kernelspec": {
      "name": "python3",
      "display_name": "Python 3"
    },
    "language_info": {
      "name": "python"
    }
  },
  "cells": [
    {
      "cell_type": "markdown",
      "source": [
        "NO 1\n",
        "(CONTOH 1)"
      ],
      "metadata": {
        "id": "W4u7-TepjxsF"
      }
    },
    {
      "cell_type": "code",
      "source": [
        "suhu = int(input(\"Masukkan suhu tubuh: \"))\n",
        "\n",
        "try:\n",
        "    if suhu >= 38:\n",
        "      print(\"Anda demam\")\n",
        "    else:\n",
        "      print(\"Anda tidak demam\")\n",
        "except:\n",
        "      print(\"anda salah memasukkan input suhu tubuh\")"
      ],
      "metadata": {
        "colab": {
          "base_uri": "https://localhost:8080/"
        },
        "id": "EYbr14FkkQ_t",
        "outputId": "948e9458-a130-4285-f64f-c7a56f14a795"
      },
      "execution_count": 1,
      "outputs": [
        {
          "output_type": "stream",
          "name": "stdout",
          "text": [
            "Masukkan suhu tubuh: 34\n",
            "Anda tidak demam\n"
          ]
        }
      ]
    },
    {
      "cell_type": "markdown",
      "source": [
        "NO 1 (CONTOH 2)"
      ],
      "metadata": {
        "id": "FBA84EYHkqIH"
      }
    },
    {
      "cell_type": "code",
      "source": [
        "try:\n",
        "    bilangan = float(input(\"Masukkan suatu bilangan: \"))\n",
        "\n",
        "    if int(bilangan > 0):\n",
        "        print(\"Positif\")\n",
        "    elif float(bilangan) < 0:\n",
        "        print(\"Negatif\")\n",
        "    elif int(bilangan == 0):\n",
        "        print(\"Nol\")\n",
        "except:\n",
        "    print ((\"input yang anda masukkan salah\"))"
      ],
      "metadata": {
        "colab": {
          "base_uri": "https://localhost:8080/"
        },
        "id": "8slRlPM6kwk0",
        "outputId": "ff210c35-a09a-4346-b99e-6a1b46657980"
      },
      "execution_count": 2,
      "outputs": [
        {
          "output_type": "stream",
          "name": "stdout",
          "text": [
            "Masukkan suatu bilangan: -9\n",
            "Negatif\n"
          ]
        }
      ]
    },
    {
      "cell_type": "markdown",
      "source": [
        "NO 1 (CONTOH 3)"
      ],
      "metadata": {
        "id": "vTW92x-dk8j2"
      }
    },
    {
      "cell_type": "code",
      "source": [
        "try:\n",
        "    a = int(input(\"Masukkan bilangan pertama: \"))\n",
        "    b = int(input(\"Masukkan bilangan kedua: \"))\n",
        "    c = int(input(\"Masukkan bilangan ketiga: \"))\n",
        "\n",
        "# secara berurutan tulis kriteria untuk a, b, dan cif a > b and a > c:\n",
        "    if  a > b and a > c:\n",
        "        print(\"Terbesar: \", a)\n",
        "    elif b > a and b > c:\n",
        "        print(\"Terbesar: \", b)\n",
        "    elif c > a and c > b:\n",
        "        print(\"Terbesar: \", c)\n",
        "except:\n",
        "        print(\"input yang anda masukkan salah\")"
      ],
      "metadata": {
        "colab": {
          "base_uri": "https://localhost:8080/"
        },
        "id": "oejUhShBlEEp",
        "outputId": "ab15268e-3d72-4ed4-f883-4cc83eccfaa4"
      },
      "execution_count": 4,
      "outputs": [
        {
          "output_type": "stream",
          "name": "stdout",
          "text": [
            "Masukkan bilangan pertama: 5\n",
            "Masukkan bilangan kedua: 6\n",
            "Masukkan bilangan ketiga: 9\n",
            "Terbesar:  9\n"
          ]
        }
      ]
    },
    {
      "cell_type": "markdown",
      "source": [
        "NO 2"
      ],
      "metadata": {
        "id": "KOE18tGqlV64"
      }
    },
    {
      "cell_type": "code",
      "source": [
        "a = int(input(\"masukkan bilangan pertama: \"))\n",
        "b = int(input(\"Masukkan bilangan kedua: \"))\n",
        "c = int(input(\"Masukkan bilangan ketiga: \"))\n",
        "print('Terbesar:', a)  if  (a > b and a > c) else print (\"Terbesar: \" ,b)  if (b > a and b > c) else print ('Terbesar: ' , c)\n",
        "\n"
      ],
      "metadata": {
        "colab": {
          "base_uri": "https://localhost:8080/"
        },
        "id": "HCFG6NNDlXuX",
        "outputId": "77facb46-0ba8-4baf-b9b9-d040c38d0430"
      },
      "execution_count": 5,
      "outputs": [
        {
          "output_type": "stream",
          "name": "stdout",
          "text": [
            "masukkan bilangan pertama: 5\n",
            "Masukkan bilangan kedua: 7\n",
            "Masukkan bilangan ketiga: 9\n",
            "Terbesar:  9\n"
          ]
        }
      ]
    },
    {
      "cell_type": "markdown",
      "source": [
        "NO 3"
      ],
      "metadata": {
        "id": "JrID4jW1lgHu"
      }
    },
    {
      "cell_type": "code",
      "source": [
        "try:\n",
        "    bulan = int(input (\"masukkan bulan(1-12):\"))\n",
        "    if bulan == 1:\n",
        "        print(\"jumlah hari : 31\")\n",
        "    elif bulan == 2:\n",
        "        print(\"jumlah hari : 29\")\n",
        "    elif bulan == 3:\n",
        "        print(\"jumlah hari : 31\")\n",
        "    elif bulan == 4:\n",
        "        print(\"jumlah hari : 30\")\n",
        "    elif bulan == 5:\n",
        "        print(\"jumlah hari : 31\")\n",
        "    elif bulan == 6:\n",
        "        print(\"jumlah hari : 30\")\n",
        "    elif bulan == 7:\n",
        "        print(\"jumlah hari : 31\")\n",
        "    elif bulan == 8:\n",
        "        print(\"jumlah hari : 31\")\n",
        "    elif bulan == 9:\n",
        "        print(\"jumlah hari : 30\")\n",
        "    elif bulan == 10:\n",
        "        print(\"jumlah hari : 31\")\n",
        "    elif bulan == 11:\n",
        "        print(\"jumlah hari : 30\")\n",
        "    elif bulan == 12:\n",
        "        print(\"jumlah hari : 31\")\n",
        "    else: 0\n",
        "except:\n",
        "    print(\"input yang anda masukkan salah\")"
      ],
      "metadata": {
        "colab": {
          "base_uri": "https://localhost:8080/"
        },
        "id": "2Dtwhdarlhpu",
        "outputId": "64ee3051-3c0e-4abe-f923-13f155da7c5f"
      },
      "execution_count": 6,
      "outputs": [
        {
          "output_type": "stream",
          "name": "stdout",
          "text": [
            "masukkan bulan(1-12):K\n",
            "input yang anda masukkan salah\n"
          ]
        }
      ]
    },
    {
      "cell_type": "markdown",
      "source": [
        "NO 4"
      ],
      "metadata": {
        "id": "9OpH12DkltuL"
      }
    },
    {
      "cell_type": "code",
      "source": [
        "try:\n",
        "    a = int (input (\"masukan  sisi 1:\"))\n",
        "    b = int (input (\"masukkan sisi 2:\"))\n",
        "    c = int (input (\"masukkan sisi 3:\"))\n",
        "\n",
        "    if a == b and a == c:\n",
        "        print(\"3 sisi  sama \")\n",
        "    elif a == b or a == c:\n",
        "        print(\"2 sisi  sama \")\n",
        "    elif b == a and b == c:\n",
        "        print(\"3 sisi sama \")\n",
        "    elif b == a or b == c:\n",
        "        print(\"2 sisi sama \")\n",
        "    else:\n",
        "        print(\"tidak ada yang sama\")\n",
        "except:\n",
        "    print(\"input yang anda masukkan salah\")"
      ],
      "metadata": {
        "colab": {
          "base_uri": "https://localhost:8080/"
        },
        "id": "Hskw76malvVZ",
        "outputId": "9ede04f6-c44f-4be3-b712-56bf3499278e"
      },
      "execution_count": 7,
      "outputs": [
        {
          "output_type": "stream",
          "name": "stdout",
          "text": [
            "masukan  sisi 1:4\n",
            "masukkan sisi 2:5\n",
            "masukkan sisi 3:4\n",
            "2 sisi  sama \n"
          ]
        }
      ]
    }
  ]
}